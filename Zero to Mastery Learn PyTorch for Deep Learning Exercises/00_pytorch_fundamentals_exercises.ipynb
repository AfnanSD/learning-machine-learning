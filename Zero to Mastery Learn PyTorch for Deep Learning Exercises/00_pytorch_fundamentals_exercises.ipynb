{
  "nbformat": 4,
  "nbformat_minor": 0,
  "metadata": {
    "colab": {
      "provenance": []
    },
    "kernelspec": {
      "name": "python3",
      "display_name": "Python 3"
    },
    "language_info": {
      "name": "python"
    },
    "accelerator": "GPU"
  },
  "cells": [
    {
      "cell_type": "markdown",
      "source": [
        "# 00. PyTorch Fundamentals Exercises\n",
        "\n",
        "### 1. Documentation reading\n",
        "\n",
        "A big part of deep learning (and learning to code in general) is getting familiar with the documentation of a certain framework you're using. We'll be using the PyTorch documentation a lot throughout the rest of this course. So I'd recommend spending 10-minutes reading the following (it's okay if you don't get some things for now, the focus is not yet full understanding, it's awareness):\n",
        "  * The documentation on [`torch.Tensor`](https://pytorch.org/docs/stable/tensors.html#torch-tensor).\n",
        "  * The documentation on [`torch.cuda`](https://pytorch.org/docs/master/notes/cuda.html#cuda-semantics).\n",
        "\n"
      ],
      "metadata": {
        "id": "AzDBM_v4iMe7"
      }
    },
    {
      "cell_type": "code",
      "source": [
        "# No code solution (reading)"
      ],
      "metadata": {
        "id": "bGD0oD8Kizak"
      },
      "execution_count": null,
      "outputs": []
    },
    {
      "cell_type": "markdown",
      "source": [
        "### 2. Create a random tensor with shape `(7, 7)`.\n"
      ],
      "metadata": {
        "id": "__iXqqz-ioUJ"
      }
    },
    {
      "cell_type": "code",
      "source": [
        "# Import torch\n",
        "import torch\n",
        "\n",
        "# Create random tensor\n",
        "tensor = torch.rand(7,7)\n",
        "tensor.shape, tensor"
      ],
      "metadata": {
        "id": "6pUq9Dc8i2L7",
        "colab": {
          "base_uri": "https://localhost:8080/"
        },
        "outputId": "1c90d3f6-7a42-43e3-82a1-fb2f7188235b"
      },
      "execution_count": null,
      "outputs": [
        {
          "output_type": "execute_result",
          "data": {
            "text/plain": [
              "(torch.Size([7, 7]),\n",
              " tensor([[8.3881e-01, 6.8385e-02, 8.8621e-01, 9.2900e-01, 2.1379e-01, 3.6061e-01,\n",
              "          7.9036e-01],\n",
              "         [5.2136e-04, 9.2252e-01, 1.2492e-01, 9.5491e-01, 3.7381e-01, 1.4210e-01,\n",
              "          2.8193e-01],\n",
              "         [9.8076e-01, 5.6368e-01, 2.4461e-01, 9.6733e-01, 3.1728e-01, 7.5265e-01,\n",
              "          2.5536e-01],\n",
              "         [9.0309e-01, 9.5615e-01, 7.4284e-01, 5.2554e-01, 9.5792e-01, 5.5986e-02,\n",
              "          5.9580e-01],\n",
              "         [4.6009e-01, 8.4900e-01, 7.2065e-01, 9.5011e-01, 2.2885e-02, 1.0367e-01,\n",
              "          5.5646e-01],\n",
              "         [6.7455e-01, 3.3410e-01, 3.2362e-03, 5.8709e-01, 9.7949e-01, 5.5360e-01,\n",
              "          7.5715e-01],\n",
              "         [2.6682e-01, 7.0925e-01, 4.9166e-01, 7.7322e-01, 7.7915e-01, 7.8897e-01,\n",
              "          1.5624e-01]]))"
            ]
          },
          "metadata": {},
          "execution_count": 5
        }
      ]
    },
    {
      "cell_type": "markdown",
      "source": [
        "### 3. Perform a matrix multiplication on the tensor from 2 with another random tensor with shape `(1, 7)` (hint: you may have to transpose the second tensor)."
      ],
      "metadata": {
        "id": "9-XxvRLfiqkR"
      }
    },
    {
      "cell_type": "code",
      "source": [
        "# Create another random tensor\n",
        "tensor_two = torch.rand(1,7)\n",
        "\n",
        "print(f\"1st tensor = {tensor}\")\n",
        "print(f\"2nd tensor = {tensor_two}\")\n",
        "\n",
        "# Perform matrix multiplication\n",
        "multi_tensor = tensor @ tensor_two.T\n",
        "multi_tensor , multi_tensor.shape"
      ],
      "metadata": {
        "id": "NcLqR0Sbi_vT",
        "colab": {
          "base_uri": "https://localhost:8080/"
        },
        "outputId": "619ce60b-6ea2-41b4-9dd2-1d7856d4f4fe"
      },
      "execution_count": null,
      "outputs": [
        {
          "output_type": "stream",
          "name": "stdout",
          "text": [
            "1st tensor = tensor([[8.3881e-01, 6.8385e-02, 8.8621e-01, 9.2900e-01, 2.1379e-01, 3.6061e-01,\n",
            "         7.9036e-01],\n",
            "        [5.2136e-04, 9.2252e-01, 1.2492e-01, 9.5491e-01, 3.7381e-01, 1.4210e-01,\n",
            "         2.8193e-01],\n",
            "        [9.8076e-01, 5.6368e-01, 2.4461e-01, 9.6733e-01, 3.1728e-01, 7.5265e-01,\n",
            "         2.5536e-01],\n",
            "        [9.0309e-01, 9.5615e-01, 7.4284e-01, 5.2554e-01, 9.5792e-01, 5.5986e-02,\n",
            "         5.9580e-01],\n",
            "        [4.6009e-01, 8.4900e-01, 7.2065e-01, 9.5011e-01, 2.2885e-02, 1.0367e-01,\n",
            "         5.5646e-01],\n",
            "        [6.7455e-01, 3.3410e-01, 3.2362e-03, 5.8709e-01, 9.7949e-01, 5.5360e-01,\n",
            "         7.5715e-01],\n",
            "        [2.6682e-01, 7.0925e-01, 4.9166e-01, 7.7322e-01, 7.7915e-01, 7.8897e-01,\n",
            "         1.5624e-01]])\n",
            "2nd tensor = tensor([[0.8728, 0.5392, 0.1755, 0.2255, 0.8065, 0.1195, 0.9020]])\n"
          ]
        },
        {
          "output_type": "execute_result",
          "data": {
            "text/plain": [
              "(tensor([[2.0624],\n",
              "         [1.3078],\n",
              "         [1.9971],\n",
              "         [2.8693],\n",
              "         [1.7328],\n",
              "         [2.4409],\n",
              "         [1.7395]]),\n",
              " torch.Size([7, 1]))"
            ]
          },
          "metadata": {},
          "execution_count": 12
        }
      ]
    },
    {
      "cell_type": "markdown",
      "source": [
        "### 4. Set the random seed to `0` and do 2 & 3 over again.\n",
        "\n",
        "The output should be:\n",
        "```\n",
        "(tensor([[1.8542],\n",
        "         [1.9611],\n",
        "         [2.2884],\n",
        "         [3.0481],\n",
        "         [1.7067],\n",
        "         [2.5290],\n",
        "         [1.7989]]), torch.Size([7, 1]))\n",
        "```"
      ],
      "metadata": {
        "id": "eiutdKUFiryU"
      }
    },
    {
      "cell_type": "code",
      "source": [
        "# Set manual seed\n",
        "RANDOM_SEED = 0\n",
        "\n",
        "\n",
        "# Create two random tensors\n",
        "torch.manual_seed(RANDOM_SEED)\n",
        "tensor_A = torch.rand(7,7)\n",
        "print(f\"tensor A: {tensor_A}\")\n",
        "\n",
        "# torch.manual_seed(RANDOM_SEED)\n",
        "tensor_B = torch.rand(1,7)\n",
        "print(f\"tensor B: {tensor_B}\")\n",
        "\n",
        "# Matrix multiply tensors\n",
        "mutli_tensor = tensor_A @ tensor_B.T\n",
        "# print(f\"multi tensor: {multi_tensor}\")\n",
        "mutli_tensor"
      ],
      "metadata": {
        "id": "D-lOWI_1jRMm",
        "colab": {
          "base_uri": "https://localhost:8080/"
        },
        "outputId": "93770ea6-c98a-410b-8421-015975f72198"
      },
      "execution_count": null,
      "outputs": [
        {
          "output_type": "stream",
          "name": "stdout",
          "text": [
            "tensor A: tensor([[0.4963, 0.7682, 0.0885, 0.1320, 0.3074, 0.6341, 0.4901],\n",
            "        [0.8964, 0.4556, 0.6323, 0.3489, 0.4017, 0.0223, 0.1689],\n",
            "        [0.2939, 0.5185, 0.6977, 0.8000, 0.1610, 0.2823, 0.6816],\n",
            "        [0.9152, 0.3971, 0.8742, 0.4194, 0.5529, 0.9527, 0.0362],\n",
            "        [0.1852, 0.3734, 0.3051, 0.9320, 0.1759, 0.2698, 0.1507],\n",
            "        [0.0317, 0.2081, 0.9298, 0.7231, 0.7423, 0.5263, 0.2437],\n",
            "        [0.5846, 0.0332, 0.1387, 0.2422, 0.8155, 0.7932, 0.2783]])\n",
            "tensor B: tensor([[0.4820, 0.8198, 0.9971, 0.6984, 0.5675, 0.8352, 0.2056]])\n"
          ]
        },
        {
          "output_type": "execute_result",
          "data": {
            "text/plain": [
              "tensor([[1.8542],\n",
              "        [1.9611],\n",
              "        [2.2884],\n",
              "        [3.0481],\n",
              "        [1.7067],\n",
              "        [2.5290],\n",
              "        [1.7989]])"
            ]
          },
          "metadata": {},
          "execution_count": 22
        }
      ]
    },
    {
      "cell_type": "markdown",
      "source": [
        "### 5. Speaking of random seeds, we saw how to set it with `torch.manual_seed()` but is there a GPU equivalent? (hint: you'll need to look into the documentation for `torch.cuda` for this one)\n",
        "  * If there is, set the GPU random seed to `1234`."
      ],
      "metadata": {
        "id": "ezY6ks9Cis37"
      }
    },
    {
      "cell_type": "code",
      "source": [
        "# Set random seed on the GPU\n",
        "RANDOM_SEED_GPU = torch.cuda.manual_seed(1234)"
      ],
      "metadata": {
        "id": "_LKWcfSTjp00"
      },
      "execution_count": null,
      "outputs": []
    },
    {
      "cell_type": "markdown",
      "source": [
        "\n",
        "### 6. Create two random tensors of shape `(2, 3)` and send them both to the GPU (you'll need access to a GPU for this). Set `torch.manual_seed(1234)` when creating the tensors (this doesn't have to be the GPU random seed). The output should be something like:\n",
        "\n",
        "```\n",
        "Device: cuda\n",
        "(tensor([[0.0290, 0.4019, 0.2598],\n",
        "         [0.3666, 0.0583, 0.7006]], device='cuda:0'),\n",
        " tensor([[0.0518, 0.4681, 0.6738],\n",
        "         [0.3315, 0.7837, 0.5631]], device='cuda:0'))\n",
        "```"
      ],
      "metadata": {
        "id": "Ir9qSaj6it4n"
      }
    },
    {
      "cell_type": "code",
      "source": [
        "# Set random seed\n",
        "RANDOM_SEED_GPU = torch.manual_seed(1234)\n",
        "\n",
        "# Check for access to GPU\n",
        "print(f\"access to GPU: {torch.cuda.is_available()}\")\n",
        "\n",
        "\n",
        "# Create two random tensors on GPU\n",
        "tensor_A_GPU = torch.rand(2,3).cuda()\n",
        "tensor_B_GPU = torch.rand(2,3).cuda()\n",
        "\n",
        "tensor_A_GPU, tensor_B_GPU"
      ],
      "metadata": {
        "id": "azXExiFZj5nm",
        "colab": {
          "base_uri": "https://localhost:8080/"
        },
        "outputId": "31ec6142-a0d2-4f43-ea47-dad9086e6b2a"
      },
      "execution_count": null,
      "outputs": [
        {
          "output_type": "stream",
          "name": "stdout",
          "text": [
            "access to GPU: True\n"
          ]
        },
        {
          "output_type": "execute_result",
          "data": {
            "text/plain": [
              "(tensor([[0.0290, 0.4019, 0.2598],\n",
              "         [0.3666, 0.0583, 0.7006]], device='cuda:0'),\n",
              " tensor([[0.0518, 0.4681, 0.6738],\n",
              "         [0.3315, 0.7837, 0.5631]], device='cuda:0'))"
            ]
          },
          "metadata": {},
          "execution_count": 35
        }
      ]
    },
    {
      "cell_type": "markdown",
      "source": [
        "\n",
        "### 7. Perform a matrix multiplication on the tensors you created in 6 (again, you may have to adjust the shapes of one of the tensors).\n",
        "\n",
        "The output should look like:\n",
        "```\n",
        "(tensor([[0.3647, 0.4709],\n",
        "         [0.5184, 0.5617]], device='cuda:0'), torch.Size([2, 2]))\n",
        "```"
      ],
      "metadata": {
        "id": "5TlAxeiSiu1y"
      }
    },
    {
      "cell_type": "code",
      "source": [
        "# Perform matmul on tensor_A and tensor_B\n",
        "\n",
        "matmul_matrix_GPU = tensor_A_GPU @ tensor_B_GPU.T\n",
        "matmul_matrix_GPU"
      ],
      "metadata": {
        "id": "fAeG7ox0lHEO",
        "colab": {
          "base_uri": "https://localhost:8080/"
        },
        "outputId": "9d113961-0d34-4a59-be1a-9e82d2f0c07f"
      },
      "execution_count": null,
      "outputs": [
        {
          "output_type": "execute_result",
          "data": {
            "text/plain": [
              "tensor([[0.3647, 0.4709],\n",
              "        [0.5184, 0.5617]], device='cuda:0')"
            ]
          },
          "metadata": {},
          "execution_count": 36
        }
      ]
    },
    {
      "cell_type": "markdown",
      "source": [
        "### 8. Find the maximum and minimum values of the output of 7."
      ],
      "metadata": {
        "id": "G7qfa5CSivwg"
      }
    },
    {
      "cell_type": "code",
      "source": [
        "# Find max\n",
        "max = matmul_matrix_GPU.max()\n",
        "max\n",
        "# Find min\n",
        "min = matmul_matrix_GPU.min()\n",
        "max,min"
      ],
      "metadata": {
        "id": "Fu8_3mZpllOd",
        "colab": {
          "base_uri": "https://localhost:8080/"
        },
        "outputId": "4c76cb6e-5868-4bcf-fff7-190f2c5b1f1b"
      },
      "execution_count": null,
      "outputs": [
        {
          "output_type": "execute_result",
          "data": {
            "text/plain": [
              "(tensor(0.5617, device='cuda:0'), tensor(0.3647, device='cuda:0'))"
            ]
          },
          "metadata": {},
          "execution_count": 38
        }
      ]
    },
    {
      "cell_type": "markdown",
      "source": [
        "### 9. Find the maximum and minimum index values of the output of 7."
      ],
      "metadata": {
        "id": "wrTj5FgNiw47"
      }
    },
    {
      "cell_type": "code",
      "source": [
        "# Find arg max\n",
        "max_index = matmul_matrix_GPU.argmax()\n",
        "\n",
        "# Find arg min\n",
        "min_index = matmul_matrix_GPU.argmin()\n",
        "\n",
        "max_index, min_index"
      ],
      "metadata": {
        "id": "CCEKt4K2lsfQ",
        "colab": {
          "base_uri": "https://localhost:8080/"
        },
        "outputId": "14b010a5-2f14-4f64-e6d2-265e82576202"
      },
      "execution_count": null,
      "outputs": [
        {
          "output_type": "execute_result",
          "data": {
            "text/plain": [
              "(tensor(3, device='cuda:0'), tensor(0, device='cuda:0'))"
            ]
          },
          "metadata": {},
          "execution_count": 39
        }
      ]
    },
    {
      "cell_type": "markdown",
      "source": [
        "\n",
        "### 10. Make a random tensor with shape `(1, 1, 1, 10)` and then create a new tensor with all the `1` dimensions removed to be left with a tensor of shape `(10)`. Set the seed to `7` when you create it and print out the first tensor and it's shape as well as the second tensor and it's shape.\n",
        "\n",
        "The output should look like:\n",
        "\n",
        "```\n",
        "tensor([[[[0.5349, 0.1988, 0.6592, 0.6569, 0.2328, 0.4251, 0.2071, 0.6297,\n",
        "           0.3653, 0.8513]]]]) torch.Size([1, 1, 1, 10])\n",
        "tensor([0.5349, 0.1988, 0.6592, 0.6569, 0.2328, 0.4251, 0.2071, 0.6297, 0.3653,\n",
        "        0.8513]) torch.Size([10])\n",
        "```"
      ],
      "metadata": {
        "id": "hmeybz4uixy7"
      }
    },
    {
      "cell_type": "code",
      "source": [
        "# Set seed\n",
        "RANDOM_SEED_SEVEN = 7\n",
        "\n",
        "# Create random tensor\n",
        "torch.manual_seed(RANDOM_SEED_SEVEN)\n",
        "random_tensor = torch.rand(1,1,1,10)\n",
        "\n",
        "print(f\"1st random_tensor: \\n{random_tensor} \\n size {random_tensor.shape}\")\n",
        "\n",
        "\n",
        "# Remove single dimensions\n",
        "squeezed_random_tensor = random_tensor.squeeze()\n",
        "\n",
        "# Print out tensors and their shapes\n",
        "print(f\"2nd random_tensor: \\n{squeezed_random_tensor} \\n size {squeezed_random_tensor.shape}\")"
      ],
      "metadata": {
        "id": "TQ9zbRzVl1jV",
        "colab": {
          "base_uri": "https://localhost:8080/"
        },
        "outputId": "443616c3-7afa-4b3f-c577-0ba51a894cee"
      },
      "execution_count": null,
      "outputs": [
        {
          "output_type": "stream",
          "name": "stdout",
          "text": [
            "1st random_tensor: \n",
            "tensor([[[[0.5349, 0.1988, 0.6592, 0.6569, 0.2328, 0.4251, 0.2071, 0.6297,\n",
            "           0.3653, 0.8513]]]]) \n",
            " size torch.Size([1, 1, 1, 10])\n",
            "2nd random_tensor: \n",
            "tensor([0.5349, 0.1988, 0.6592, 0.6569, 0.2328, 0.4251, 0.2071, 0.6297, 0.3653,\n",
            "        0.8513]) \n",
            " size torch.Size([10])\n"
          ]
        }
      ]
    }
  ]
}