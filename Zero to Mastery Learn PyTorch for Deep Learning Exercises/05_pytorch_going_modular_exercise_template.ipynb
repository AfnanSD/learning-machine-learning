{
  "nbformat": 4,
  "nbformat_minor": 0,
  "metadata": {
    "colab": {
      "provenance": []
    },
    "kernelspec": {
      "name": "python3",
      "display_name": "Python 3"
    },
    "language_info": {
      "name": "python"
    },
    "accelerator": "GPU"
  },
  "cells": [
    {
      "cell_type": "markdown",
      "source": [
        "# 05. PyTorch Going Modular Exercises\n",
        "\n",
        "Welcome to the 05. PyTorch Going Modular exercise template notebook.\n",
        "\n",
        "There are several questions in this notebook and it's your goal to answer them by writing Python and PyTorch code.\n",
        "\n",
        "> **Note:** There may be more than one solution to each of the exercises, don't worry too much about the *exact* right answer. Try to write some code that works first and then improve it if you can.\n",
        "\n",
        "## Resources and solutions\n",
        "\n",
        "* These exercises/solutions are based on [section 05. PyTorch Going Modular](https://www.learnpytorch.io/05_pytorch_going_modular/) of the Learn PyTorch for Deep Learning course by Zero to Mastery.\n",
        "\n",
        "**Solutions:**\n",
        "\n",
        "Try to complete the code below *before* looking at these.\n",
        "\n",
        "* See a live [walkthrough of the solutions (errors and all) on YouTube](https://youtu.be/ijgFhMK3pp4).\n",
        "* See an example [solutions notebook for these exercises on GitHub](https://github.com/mrdbourke/pytorch-deep-learning/blob/main/extras/solutions/05_pytorch_going_modular_exercise_solutions.ipynb)."
      ],
      "metadata": {
        "id": "zNqPNlYylluR"
      }
    },
    {
      "cell_type": "markdown",
      "source": [
        "## 1. Turn the code to get the data (from section 1. Get Data) into a Python script, such as `get_data.py`.\n",
        "\n",
        "* When you run the script using `python get_data.py` it should check if the data already exists and skip downloading if it does.\n",
        "* If the data download is successful, you should be able to access the `pizza_steak_sushi` images from the `data` directory."
      ],
      "metadata": {
        "id": "bicbWSrPmfTU"
      }
    },
    {
      "cell_type": "code",
      "source": [
        "%%writefile get_data.py\n",
        "\n",
        "import os\n",
        "import requests\n",
        "import zipfile\n",
        "from pathlib import Path\n",
        "\n",
        "# Setup path to data folder\n",
        "data_path = Path(\"data/\")\n",
        "image_path = data_path / \"pizza_steak_sushi\"\n",
        "\n",
        "# If the image folder doesn't exist, download it and prepare it...\n",
        "if image_path.is_dir():\n",
        "    print(f\"{image_path} directory exists.\")\n",
        "else:\n",
        "    print(f\"Did not find {image_path} directory, creating one...\")\n",
        "    image_path.mkdir(parents=True, exist_ok=True)\n",
        "\n",
        "# Download pizza, steak, sushi data\n",
        "with open(data_path / \"pizza_steak_sushi.zip\", \"wb\") as f:\n",
        "    request = requests.get(\"https://github.com/mrdbourke/pytorch-deep-learning/raw/main/data/pizza_steak_sushi.zip\")\n",
        "    print(\"Downloading pizza, steak, sushi data...\")\n",
        "    f.write(request.content)\n",
        "\n",
        "# Unzip pizza, steak, sushi data\n",
        "with zipfile.ZipFile(data_path / \"pizza_steak_sushi.zip\", \"r\") as zip_ref:\n",
        "    print(\"Unzipping pizza, steak, sushi data...\")\n",
        "    zip_ref.extractall(image_path)\n",
        "\n",
        "# Remove zip file\n",
        "os.remove(data_path / \"pizza_steak_sushi.zip\")\n"
      ],
      "metadata": {
        "id": "r0BCn1XIYZ8c",
        "colab": {
          "base_uri": "https://localhost:8080/"
        },
        "outputId": "c36d65e1-abf1-4194-fd0e-bd286c5cc1a4"
      },
      "execution_count": 1,
      "outputs": [
        {
          "output_type": "stream",
          "name": "stdout",
          "text": [
            "Writing get_data.py\n"
          ]
        }
      ]
    },
    {
      "cell_type": "code",
      "source": [
        "# Example running of get_data.py\n",
        "!python get_data.py"
      ],
      "metadata": {
        "id": "_LrUOIC-YOP9",
        "colab": {
          "base_uri": "https://localhost:8080/"
        },
        "outputId": "ad0b3ea8-5d58-44c2-8fc6-56b09c81cc31"
      },
      "execution_count": 2,
      "outputs": [
        {
          "output_type": "stream",
          "name": "stdout",
          "text": [
            "Did not find data/pizza_steak_sushi directory, creating one...\n",
            "Downloading pizza, steak, sushi data...\n",
            "Unzipping pizza, steak, sushi data...\n"
          ]
        }
      ]
    },
    {
      "cell_type": "markdown",
      "source": [
        "## 2. Use [Python's `argparse` module](https://docs.python.org/3/library/argparse.html) to be able to send the `train.py` custom hyperparameter values for training procedures.\n",
        "* Add an argument flag for using a different:\n",
        "  * Training/testing directory\n",
        "  * Learning rate\n",
        "  * Batch size\n",
        "  * Number of epochs to train for\n",
        "  * Number of hidden units in the TinyVGG model\n",
        "    * Keep the default values for each of the above arguments as what they already are (as in notebook 05).\n",
        "* For example, you should be able to run something similar to the following line to train a TinyVGG model with a learning rate of 0.003 and a batch size of 64 for 20 epochs: `python train.py --learning_rate 0.003 batch_size 64 num_epochs 20`.\n",
        "* **Note:** Since `train.py` leverages the other scripts we created in section 05, such as, `model_builder.py`, `utils.py` and `engine.py`, you'll have to make sure they're available to use too. You can find these in the [`going_modular` folder on the course GitHub](https://github.com/mrdbourke/pytorch-deep-learning/tree/main/going_modular/going_modular)."
      ],
      "metadata": {
        "id": "zjyn7LU3mvkR"
      }
    },
    {
      "cell_type": "code",
      "source": [
        "# YOUR CODE HERE\n",
        "%%writefile test.py\n",
        "import argparse\n",
        "\n",
        "# Step 1: Create ArgumentParser object\n",
        "parser = argparse.ArgumentParser(description=\"A simple program to greet users\")\n",
        "\n",
        "# Step 2: Add arguments\n",
        "parser.add_argument(\"name\", type=str, help=\"Name of the user\")  # Positional argument\n",
        "parser.add_argument(\"--age\", type=int, help=\"Age of the user\", required=False)  # Optional argument\n",
        "\n",
        "# Step 3: Parse arguments from the command line\n",
        "args = parser.parse_args()\n",
        "\n",
        "# Step 4: Access the arguments\n",
        "print(f\"Hello, {args.name}!\")\n",
        "if args.age:\n",
        "    print(f\"You are {args.age} years old.\")"
      ],
      "metadata": {
        "id": "MKNDUp45YaW-",
        "colab": {
          "base_uri": "https://localhost:8080/"
        },
        "outputId": "a6943ce3-ba94-46f6-9363-db4585653852"
      },
      "execution_count": 3,
      "outputs": [
        {
          "output_type": "stream",
          "name": "stdout",
          "text": [
            "Writing test.py\n"
          ]
        }
      ]
    },
    {
      "cell_type": "code",
      "source": [
        "!python test.py afnan --age 10"
      ],
      "metadata": {
        "colab": {
          "base_uri": "https://localhost:8080/"
        },
        "id": "pOn5hE3WhZf1",
        "outputId": "c2a8dfd8-0153-4e4f-d493-3c4f2cda43dc"
      },
      "execution_count": 4,
      "outputs": [
        {
          "output_type": "stream",
          "name": "stdout",
          "text": [
            "Hello, afnan!\n",
            "You are 10 years old.\n"
          ]
        }
      ]
    },
    {
      "cell_type": "code",
      "source": [
        "%%writefile train.py\n",
        "\"\"\"\n",
        "Trains a PyTorch image classification model using device-agnostic code.\n",
        "\"\"\"\n",
        "\n",
        "import os\n",
        "import torch\n",
        "import data_setup, engine, model_builder, utils\n",
        "import argparse\n",
        "\n",
        "from torchvision import transforms\n",
        "\n",
        "# Setup parser\n",
        "parser = argparse.ArgumentParser(\n",
        "                    prog='train.py'\n",
        "                    )\n",
        "\n",
        "parser.add_argument(\"--train_dir\", type=str, help=\"Training directory\", required=False, default=\"data/pizza_steak_sushi/train\")\n",
        "parser.add_argument(\"--test_dir\", type=str, help=\"Testing directory\", required=False, default=\"data/pizza_steak_sushi/test\")\n",
        "\n",
        "parser.add_argument(\"--learning_rate\", type=float, help=\"Learning rate\", required=False, default=0.001)\n",
        "parser.add_argument(\"--batch_size\", type=int, help=\"Batch size\", required=False, default=32)\n",
        "parser.add_argument(\"--num_epochs\", type=int, help=\"Number of epochs\", required=False, default=5)\n",
        "parser.add_argument(\"--hidden_units\", type=int, help=\"Number of hidden units\", required=False, default=10)\n",
        "\n",
        "args = parser.parse_args()\n",
        "\n",
        "NUM_EPOCHS = args.num_epochs\n",
        "BATCH_SIZE = args.batch_size\n",
        "HIDDEN_UNITS = args.hidden_units\n",
        "LEARNING_RATE = args.learning_rate\n",
        "\n",
        "train_dir = args.train_dir\n",
        "test_dir = args.test_dir\n",
        "\n",
        "# Setup target device\n",
        "device = \"cuda\" if torch.cuda.is_available() else \"cpu\"\n",
        "\n",
        "# Create transforms\n",
        "data_transform = transforms.Compose([\n",
        "  transforms.Resize((64, 64)),\n",
        "  transforms.ToTensor()\n",
        "])\n",
        "\n",
        "# Create DataLoaders with help from data_setup.py\n",
        "train_dataloader, test_dataloader, class_names = data_setup.create_dataloaders(\n",
        "    train_dir=train_dir,\n",
        "    test_dir=test_dir,\n",
        "    transform=data_transform,\n",
        "    batch_size=BATCH_SIZE\n",
        ")\n",
        "\n",
        "# Create model with help from model_builder.py\n",
        "model = model_builder.TinyVGG(\n",
        "    input_shape=3,\n",
        "    hidden_units=HIDDEN_UNITS,\n",
        "    output_shape=len(class_names)\n",
        ").to(device)\n",
        "\n",
        "# Set loss and optimizer\n",
        "loss_fn = torch.nn.CrossEntropyLoss()\n",
        "optimizer = torch.optim.Adam(model.parameters(),\n",
        "                             lr=LEARNING_RATE)\n",
        "\n",
        "# Start training with help from engine.py\n",
        "engine.train(model=model,\n",
        "             train_dataloader=train_dataloader,\n",
        "             test_dataloader=test_dataloader,\n",
        "             loss_fn=loss_fn,\n",
        "             optimizer=optimizer,\n",
        "             epochs=NUM_EPOCHS,\n",
        "             device=device)\n",
        "\n",
        "# Save the model with help from utils.py\n",
        "utils.save_model(model=model,\n",
        "                 target_dir=\"models\",\n",
        "                 model_name=\"05_going_modular_script_mode_tinyvgg_model.pth\")"
      ],
      "metadata": {
        "colab": {
          "base_uri": "https://localhost:8080/"
        },
        "id": "5LVCjtmNhmsA",
        "outputId": "c2e353c3-cec1-4844-bd4b-d37680d51444"
      },
      "execution_count": 28,
      "outputs": [
        {
          "output_type": "stream",
          "name": "stdout",
          "text": [
            "Overwriting train.py\n"
          ]
        }
      ]
    },
    {
      "cell_type": "code",
      "source": [
        "# Example running of train.py\n",
        "!python train.py --num_epochs 5 --batch_size 128 --hidden_units 128 --learning_rate 0.0003"
      ],
      "metadata": {
        "id": "LzaJl39lC40N",
        "colab": {
          "base_uri": "https://localhost:8080/"
        },
        "outputId": "7f898585-7558-4f6b-ca1d-2371c8fe963b"
      },
      "execution_count": 29,
      "outputs": [
        {
          "output_type": "stream",
          "name": "stdout",
          "text": [
            "  0% 0/5 [00:00<?, ?it/s]Epoch: 1 | train_loss: 1.1087 | train_acc: 0.3162 | test_loss: 1.0949 | test_acc: 0.3333\n",
            " 20% 1/5 [00:01<00:06,  1.51s/it]Epoch: 2 | train_loss: 1.0944 | train_acc: 0.3421 | test_loss: 1.0982 | test_acc: 0.3867\n",
            " 40% 2/5 [00:02<00:03,  1.27s/it]Epoch: 3 | train_loss: 1.0860 | train_acc: 0.4932 | test_loss: 1.0883 | test_acc: 0.4133\n",
            " 60% 3/5 [00:03<00:02,  1.25s/it]Epoch: 4 | train_loss: 1.0685 | train_acc: 0.4729 | test_loss: 1.0741 | test_acc: 0.4533\n",
            " 80% 4/5 [00:05<00:01,  1.24s/it]Epoch: 5 | train_loss: 1.0386 | train_acc: 0.5218 | test_loss: 1.0442 | test_acc: 0.4000\n",
            "100% 5/5 [00:06<00:00,  1.25s/it]\n",
            "[INFO] Saving model to: models/05_going_modular_script_mode_tinyvgg_model.pth\n"
          ]
        }
      ]
    },
    {
      "cell_type": "markdown",
      "source": [
        "## 3. Create a Python script to predict (such as `predict.py`) on a target image given a file path with a saved model.\n",
        "\n",
        "* For example, you should be able to run the command `python predict.py some_image.jpeg` and have a trained PyTorch model predict on the image and return its prediction.\n",
        "* To see example prediction code, check out the [predicting on a custom image section in notebook 04](https://www.learnpytorch.io/04_pytorch_custom_datasets/#113-putting-custom-image-prediction-together-building-a-function).\n",
        "* You may also have to write code to load in a trained model."
      ],
      "metadata": {
        "id": "P2g6EEYvm-46"
      }
    },
    {
      "cell_type": "code",
      "source": [
        "%matplotlib inline"
      ],
      "metadata": {
        "id": "QkPJ12c05A4K"
      },
      "execution_count": 38,
      "outputs": []
    },
    {
      "cell_type": "code",
      "source": [
        "# YOUR CODE HERE\n",
        "%%writefile predict.py\n",
        "\"\"\"\n",
        "predict a target image class given a file path with a saved model\n",
        "\"\"\"\n",
        "import argparse\n",
        "import torch\n",
        "import torchvision\n",
        "from torchvision import transforms\n",
        "import matplotlib.pyplot as plt\n",
        "\n",
        "import model_builder\n",
        "\n",
        "#hardcoded class names\n",
        "class_names = ['pizza', 'steak', 'sushi']\n",
        "\n",
        "# Setup parser\n",
        "parser = argparse.ArgumentParser(\n",
        "                    prog='predict.py'\n",
        "                  )\n",
        "\n",
        "parser.add_argument(\"--image\", type=str, help=\"Image path\",required=True)\n",
        "\n",
        "args = parser.parse_args()\n",
        "\n",
        "# Load the model\n",
        "model = model_builder.TinyVGG(\n",
        "    input_shape=3,\n",
        "    hidden_units=128,\n",
        "    output_shape=3\n",
        ")\n",
        "\n",
        "model.load_state_dict(torch.load(\"models/05_going_modular_script_mode_tinyvgg_model.pth\", weights_only=True))\n",
        "\n",
        "# Setup target device\n",
        "device = \"cuda\" if torch.cuda.is_available() else \"cpu\"\n",
        "\n",
        "# Load in image and convert the tensor values to float32\n",
        "target_image = torchvision.io.read_image(str(args.image)).type(torch.float32)\n",
        "\n",
        "# Divide the image pixel values by 255 to get them between [0, 1]\n",
        "target_image = target_image / 255.\n",
        "\n",
        "# Transform image\n",
        "transform = transforms.Compose([\n",
        "    transforms.Resize((64, 64)),\n",
        "    # transforms.ToTensor(),\n",
        "])\n",
        "\n",
        "target_image = transform(target_image)\n",
        "\n",
        "# Make sure the model is on the target device\n",
        "model.to(device)\n",
        "\n",
        "# Turn on model evaluation mode and inference mode\n",
        "model.eval()\n",
        "with torch.inference_mode():\n",
        "    # Add an extra dimension to the image\n",
        "    target_image = target_image.unsqueeze(dim=0)\n",
        "\n",
        "    # Make a prediction on image with an extra dimension and send it to the target device\n",
        "    target_image_pred = model(target_image.to(device))\n",
        "\n",
        "# Convert logits -> prediction probabilities (using torch.softmax() for multi-class classification)\n",
        "target_image_pred_probs = torch.softmax(target_image_pred, dim=1)\n",
        "\n",
        "# Convert prediction probabilities -> prediction labels\n",
        "target_image_pred_label = torch.argmax(target_image_pred_probs, dim=1)\n",
        "\n",
        "# Plot the image alongside the prediction and prediction probability\n",
        "plt.imshow(target_image.squeeze().permute(1, 2, 0)) # make sure it's the right size for matplotlib\n",
        "if class_names:\n",
        "    title = f\"Pred: {class_names[target_image_pred_label.cpu()]} | Prob: {target_image_pred_probs.max().cpu():.3f}\"\n",
        "else:\n",
        "    title = f\"Pred: {target_image_pred_label} | Prob: {target_image_pred_probs.max().cpu():.3f}\"\n",
        "plt.title(title)\n",
        "plt.axis(False)\n",
        "\n",
        "plt.savefig(\"output_image.png\")  # Save the figure"
      ],
      "metadata": {
        "id": "HU7W6VZfYawP",
        "colab": {
          "base_uri": "https://localhost:8080/"
        },
        "outputId": "90b76bb9-f6b7-439b-9f26-591c707d0b09"
      },
      "execution_count": 45,
      "outputs": [
        {
          "output_type": "stream",
          "name": "stdout",
          "text": [
            "Overwriting predict.py\n"
          ]
        }
      ]
    },
    {
      "cell_type": "code",
      "source": [
        "# Example running of predict.py\n",
        "!python predict.py --image data/pizza_steak_sushi/test/sushi/175783.jpg"
      ],
      "metadata": {
        "id": "Zcvw9sitIn6r"
      },
      "execution_count": 46,
      "outputs": []
    },
    {
      "cell_type": "code",
      "source": [
        "from IPython.display import Image, display\n",
        "display(Image(filename=\"output_image.png\"))\n"
      ],
      "metadata": {
        "colab": {
          "base_uri": "https://localhost:8080/",
          "height": 497
        },
        "id": "s38STaZ85rIb",
        "outputId": "212913d8-3fef-4914-b5c4-028741a38c8b"
      },
      "execution_count": 47,
      "outputs": [
        {
          "output_type": "display_data",
          "data": {
            "image/png": "[encoded data removed]",
            "text/plain": [
              "<IPython.core.display.Image object>"
            ]
          },
          "metadata": {}
        }
      ]
    }
  ]
}