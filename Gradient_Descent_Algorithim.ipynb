{
  "nbformat": 4,
  "nbformat_minor": 0,
  "metadata": {
    "colab": {
      "provenance": [],
      "authorship_tag": "ABX9TyMWxJqYBSE5Hs/JDUPpIwxE"
    },
    "kernelspec": {
      "name": "python3",
      "display_name": "Python 3"
    },
    "language_info": {
      "name": "python"
    }
  },
  "cells": [
    {
      "cell_type": "code",
      "source": [
        "import numpy as np\n",
        "from typing import Callable"
      ],
      "metadata": {
        "id": "f81k6fiKKlhT"
      },
      "execution_count": null,
      "outputs": []
    },
    {
      "cell_type": "code",
      "execution_count": null,
      "metadata": {
        "id": "g7PqbIuSKhHE"
      },
      "outputs": [],
      "source": [
        "# 1. starting point [float] - in our case, we define it manually but in practice, it is often a random initialisation\n",
        "\n",
        "# 2. gradient function [object] - function calculating gradient which has to be specified before-hand and passed to the GD function\n",
        "\n",
        "# 3. learning rate [float] - scaling factor for step sizes\n",
        "\n",
        "# 4. maximum number of iterations [int]\n",
        "\n",
        "# 5. tolerance [float] to conditionally stop the algorithm (in this case a default value is 0.01)\n",
        "\n",
        "def gradient_descent(start: float, gradient: Callable[[float], float],\n",
        "                     learn_rate: float, max_iter: int, tol: float = 0.01):\n",
        "    x = start\n",
        "    steps = [start]  # history tracking\n",
        "\n",
        "    for _ in range(max_iter):\n",
        "        diff = learn_rate*gradient(x)\n",
        "        if np.abs(diff) < tol:\n",
        "            break\n",
        "        x = x - diff\n",
        "        steps.append(x)  # history tracing\n",
        "\n",
        "    return steps, x"
      ]
    },
    {
      "cell_type": "code",
      "source": [
        "def func1(x:float):\n",
        "    return x**2-4*x+1\n",
        "\n",
        "def gradient_func1(x:float):\n",
        "    return 2*x - 4"
      ],
      "metadata": {
        "id": "SURPutKDLWG3"
      },
      "execution_count": null,
      "outputs": []
    },
    {
      "cell_type": "code",
      "source": [
        "history, result = gradient_descent(9, gradient_func1, 0.1, 100)"
      ],
      "metadata": {
        "id": "HwzDUoNkLj0F"
      },
      "execution_count": null,
      "outputs": []
    },
    {
      "cell_type": "code",
      "source": [
        "result"
      ],
      "metadata": {
        "colab": {
          "base_uri": "https://localhost:8080/"
        },
        "id": "-0QxGMkSLnxh",
        "outputId": "735594ed-378d-4daa-8421-779b79768574"
      },
      "execution_count": null,
      "outputs": [
        {
          "output_type": "execute_result",
          "data": {
            "text/plain": [
              "2.041320706725109"
            ]
          },
          "metadata": {},
          "execution_count": 11
        }
      ]
    },
    {
      "cell_type": "code",
      "source": [
        "history"
      ],
      "metadata": {
        "colab": {
          "base_uri": "https://localhost:8080/"
        },
        "id": "dY59KfXnLpst",
        "outputId": "9c037eb1-7d97-4fcc-b3ea-5fccde821e2d"
      },
      "execution_count": null,
      "outputs": [
        {
          "output_type": "execute_result",
          "data": {
            "text/plain": [
              "[9,\n",
              " 7.6,\n",
              " 6.4799999999999995,\n",
              " 5.584,\n",
              " 4.8671999999999995,\n",
              " 4.29376,\n",
              " 3.8350079999999998,\n",
              " 3.4680063999999997,\n",
              " 3.17440512,\n",
              " 2.939524096,\n",
              " 2.7516192768,\n",
              " 2.60129542144,\n",
              " 2.481036337152,\n",
              " 2.3848290697216,\n",
              " 2.30786325577728,\n",
              " 2.246290604621824,\n",
              " 2.197032483697459,\n",
              " 2.1576259869579673,\n",
              " 2.1261007895663737,\n",
              " 2.100880631653099,\n",
              " 2.080704505322479,\n",
              " 2.064563604257983,\n",
              " 2.0516508834063862,\n",
              " 2.041320706725109]"
            ]
          },
          "metadata": {},
          "execution_count": 12
        }
      ]
    }
  ]
}